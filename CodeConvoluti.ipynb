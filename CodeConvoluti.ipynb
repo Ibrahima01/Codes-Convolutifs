{
 "cells": [
  {
   "cell_type": "code",
   "execution_count": 166,
   "id": "8aae9402",
   "metadata": {},
   "outputs": [],
   "source": [
    "from random import random"
   ]
  },
  {
   "cell_type": "code",
   "execution_count": 167,
   "id": "5cfe9618",
   "metadata": {},
   "outputs": [],
   "source": [
    "def bas (x, p):\n",
    "    res=\"\" #res est le réultat obtenu après décodage\n",
    "    for bit in str(x): #Convertir x en une chaine de caractère grâce à la fonction str()\n",
    "        if bit==\"0\":\n",
    "            #p est la probabilité que le 0 soit remplacé par 1 et vice versa\n",
    "            if random()<p:\n",
    "                res=res+\"0\"\n",
    "            else:\n",
    "                res=res+\"1\"\n",
    "        else:\n",
    "            if random()<p:\n",
    "                res=res+\"1\"\n",
    "            else:\n",
    "                res=res+\"0\"\n",
    "    return res"
   ]
  },
  {
   "cell_type": "code",
   "execution_count": 177,
   "id": "4b083a31",
   "metadata": {},
   "outputs": [
    {
     "name": "stdout",
     "output_type": "stream",
     "text": [
      "1001\n"
     ]
    }
   ],
   "source": [
    "print (bas(1001,0.5))"
   ]
  },
  {
   "cell_type": "markdown",
   "id": "1e570415",
   "metadata": {},
   "source": [
    "#Référence:\n",
    "https://www.schoolmouv.fr/eleves/savoir-faire/simulation-d-une-variable-de-bernoulli-et-schema-de-bernoulli-python/fiche-methode"
   ]
  },
  {
   "cell_type": "code",
   "execution_count": 178,
   "id": "e88ab8ba",
   "metadata": {},
   "outputs": [],
   "source": [
    "def apply_generator(state, gen, m):\n",
    "    res=0\n",
    "    registre=gen\n",
    "    for i in range(len(registre)):\n",
    "        registre[i]=0\n",
    "    registre[0]=state\n",
    "    for i in registre:\n",
    "        res=res+i\n",
    "    return (res%2)"
   ]
  },
  {
   "cell_type": "code",
   "execution_count": 179,
   "id": "dcd43dd6",
   "metadata": {},
   "outputs": [
    {
     "name": "stdout",
     "output_type": "stream",
     "text": [
      "1\n",
      "0\n",
      "1\n",
      "1\n",
      "0\n",
      "0\n",
      "0\n"
     ]
    }
   ],
   "source": [
    "for i in [1,0,1,1,0,0,0]:\n",
    "    print(apply_generator(i,[1,1,1],0))"
   ]
  },
  {
   "cell_type": "code",
   "execution_count": 182,
   "id": "45fa6866",
   "metadata": {},
   "outputs": [],
   "source": [
    "def encode_one_generator(gen, x):\n",
    "    registre=gen\n",
    "    res=\"\"\n",
    "    for i in range(len(gen)):\n",
    "                registre[i]=0\n",
    "    for i in range(len(x)):\n",
    "        for j in range(len(registre)-1,0,-1):\n",
    "            registre[j]=registre[j-1]\n",
    "        registre[0]=x[i]\n",
    "        bit_de_sortie=0\n",
    "        for j in range(len(registre)):\n",
    "            bit_de_sortie=(bit_de_sortie + registre[j])%2\n",
    "        res=res+str(bit_de_sortie)\n",
    "    return res"
   ]
  },
  {
   "cell_type": "code",
   "execution_count": 183,
   "id": "163233a3",
   "metadata": {},
   "outputs": [
    {
     "name": "stdout",
     "output_type": "stream",
     "text": [
      "1100010\n"
     ]
    }
   ],
   "source": [
    "print(encode_one_generator([1,1,1],[1,0,1,1,0,0,0]))"
   ]
  },
  {
   "cell_type": "code",
   "execution_count": 164,
   "id": "9a26e266",
   "metadata": {},
   "outputs": [],
   "source": [
    "import numpy as np"
   ]
  },
  {
   "cell_type": "code",
   "execution_count": 184,
   "id": "4f0f73ce",
   "metadata": {},
   "outputs": [],
   "source": [
    "def encode(x, generators):\n",
    "    res=np.array([\"\"])\n",
    "    for i in range(len(generators)):\n",
    "        res=np.append(res,encode_one_generator(generators[i],x))\n",
    "    return res;"
   ]
  },
  {
   "cell_type": "code",
   "execution_count": 187,
   "id": "6798cd2d",
   "metadata": {},
   "outputs": [
    {
     "name": "stdout",
     "output_type": "stream",
     "text": [
      "['' '011011' '011110']\n"
     ]
    }
   ],
   "source": [
    "print(encode([0,1,0,1,0,0],[[1,1,1],[1,1]]))"
   ]
  },
  {
   "cell_type": "code",
   "execution_count": null,
   "id": "71a31140",
   "metadata": {},
   "outputs": [],
   "source": [
    "def decode_one_generator(x, gen):\n",
    "    "
   ]
  }
 ],
 "metadata": {
  "kernelspec": {
   "display_name": "Python 3 (ipykernel)",
   "language": "python",
   "name": "python3"
  },
  "language_info": {
   "codemirror_mode": {
    "name": "ipython",
    "version": 3
   },
   "file_extension": ".py",
   "mimetype": "text/x-python",
   "name": "python",
   "nbconvert_exporter": "python",
   "pygments_lexer": "ipython3",
   "version": "3.10.6"
  }
 },
 "nbformat": 4,
 "nbformat_minor": 5
}
