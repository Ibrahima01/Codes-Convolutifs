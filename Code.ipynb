{
 "cells": [
  {
   "cell_type": "code",
   "execution_count": 1,
   "id": "8aae9402",
   "metadata": {},
   "outputs": [],
   "source": [
    "from random import random"
   ]
  },
  {
   "cell_type": "code",
   "execution_count": 2,
   "id": "5cfe9618",
   "metadata": {},
   "outputs": [],
   "source": [
    "def bas (x, p):\n",
    "    res=\"\" #res est le réultat obtenu après décodage\n",
    "    for bit in str(x): #Convertir x en une chaine de caractère grâce à la fonction str()\n",
    "        if bit==\"0\":\n",
    "            #p est la probabilité que le 0 soit remplacé par 1 et vice versa\n",
    "            if random()<p:\n",
    "                res=res+\"0\"\n",
    "            else:\n",
    "                res=res+\"1\"\n",
    "        else:\n",
    "            if random()<p:\n",
    "                res=res+\"1\"\n",
    "            else:\n",
    "                res=res+\"0\"\n",
    "    return res"
   ]
  },
  {
   "cell_type": "code",
   "execution_count": 3,
   "id": "4b083a31",
   "metadata": {},
   "outputs": [
    {
     "name": "stdout",
     "output_type": "stream",
     "text": [
      "0101\n"
     ]
    }
   ],
   "source": [
    "print (bas(1001,0.5))"
   ]
  },
  {
   "cell_type": "markdown",
   "id": "1e570415",
   "metadata": {},
   "source": [
    "#Référence:\n",
    "https://www.schoolmouv.fr/eleves/savoir-faire/simulation-d-une-variable-de-bernoulli-et-schema-de-bernoulli-python/fiche-methode"
   ]
  },
  {
   "cell_type": "code",
   "execution_count": 4,
   "id": "f7d7f984",
   "metadata": {},
   "outputs": [],
   "source": [
    "def apply_generator(state, gen, m):\n",
    "    res=0\n",
    "    registre=gen\n",
    "    for i in range(len(registre)):\n",
    "        registre[i]=0\n",
    "    registre[0]=state\n",
    "    for i in registre:\n",
    "        res=res+i\n",
    "    return (res%2)"
   ]
  },
  {
   "cell_type": "code",
   "execution_count": 5,
   "id": "84010ad6",
   "metadata": {},
   "outputs": [
    {
     "name": "stdout",
     "output_type": "stream",
     "text": [
      "1\n",
      "0\n",
      "1\n",
      "1\n",
      "0\n",
      "0\n",
      "0\n"
     ]
    }
   ],
   "source": [
    "for i in [1,0,1,1,0,0,0]:\n",
    "    print(apply_generator(i,[1,1,1],0))"
   ]
  },
  {
   "cell_type": "code",
   "execution_count": 32,
   "id": "3ae76935",
   "metadata": {},
   "outputs": [],
   "source": [
    "import copy"
   ]
  },
  {
   "cell_type": "code",
   "execution_count": 82,
   "id": "8b64a4cb",
   "metadata": {},
   "outputs": [],
   "source": [
    "def encode_one_generator(gen, x):\n",
    "    registre=copy.copy(gen)\n",
    "    res=\"\"\n",
    "    for i in range(len(gen)):\n",
    "        registre[i]=0\n",
    "    for i in range(len(x)):\n",
    "        k=i\n",
    "        for j in range(len(registre)-1,0,-1):\n",
    "            if (i>=len(gen)-1):\n",
    "                registre[j]=x[k-len(gen)+1]*gen[j]\n",
    "                k=k+1\n",
    "            else:\n",
    "                registre[j]=registre[j-1]*gen[j]\n",
    "        registre[0]=x[i]*gen[0]\n",
    "        bit_de_sortie=0\n",
    "        for j in range(len(registre)):\n",
    "            bit_de_sortie=(bit_de_sortie + registre[j]*gen[j])%2\n",
    "        res=res+str(bit_de_sortie)\n",
    "    return res"
   ]
  },
  {
   "cell_type": "code",
   "execution_count": 77,
   "id": "0ea06269",
   "metadata": {},
   "outputs": [
    {
     "name": "stdout",
     "output_type": "stream",
     "text": [
      "[0, 0, 0]\n",
      "[1, 0, 0]\n",
      "[0, 1, 0]\n",
      "[1, 0, 1]\n",
      "[1, 1, 0]\n",
      "[0, 1, 1]\n",
      "[0, 0, 1]\n",
      "[0, 0, 0]\n",
      "1100010\n"
     ]
    }
   ],
   "source": [
    "print(encode_one_generator([1,1,1],[1,0,1,1,0,0,0]))"
   ]
  },
  {
   "cell_type": "code",
   "execution_count": 78,
   "id": "2f35f137",
   "metadata": {},
   "outputs": [],
   "source": [
    "import numpy as np"
   ]
  },
  {
   "cell_type": "code",
   "execution_count": 83,
   "id": "50010c53",
   "metadata": {},
   "outputs": [],
   "source": [
    "def encode(x, generators):\n",
    "    res=np.array([\"\"])\n",
    "    for i in range(len(generators)):\n",
    "        res=np.append(res,encode_one_generator(generators[i],x))\n",
    "    return res;"
   ]
  },
  {
   "cell_type": "code",
   "execution_count": 85,
   "id": "07c7df04",
   "metadata": {},
   "outputs": [
    {
     "name": "stdout",
     "output_type": "stream",
     "text": [
      "['' '1100010' '1110100' '1001110' '1110100']\n"
     ]
    }
   ],
   "source": [
    "print(encode([1,0,1,1,0,0,0],[[1,1,1],[1,1],[1,0,1],[1,1,0]]))"
   ]
  },
  {
   "cell_type": "code",
   "execution_count": 162,
   "id": "95bd1fbb",
   "metadata": {},
   "outputs": [
    {
     "name": "stdout",
     "output_type": "stream",
     "text": [
      "1\n"
     ]
    }
   ],
   "source": [
    "def somme_registre_gen(y,gen):\n",
    "    somme=0\n",
    "    for i in range (len(y)-1):\n",
    "        somme=somme+(y[i]*gen[i])\n",
    "    return somme\n",
    "print(somme_registre_gen([0, 1, 1],[1,1,1]))"
   ]
  },
  {
   "cell_type": "code",
   "execution_count": 194,
   "id": "e0c34530",
   "metadata": {},
   "outputs": [],
   "source": [
    "def decode_one_generator(y, gen):\n",
    "    registre=copy.copy(gen)\n",
    "    x=[]\n",
    "    res=\"\"\n",
    "    for i in range(len(gen)):\n",
    "        registre[i]=0\n",
    "    for i in range(len(y)):\n",
    "        k=i\n",
    "        for j in range (len(registre)-1):\n",
    "            if (i<len(registre)-1):\n",
    "                registre[j]=registre[j+1]*gen[j]\n",
    "            else:\n",
    "                registre[j]=x[k-len(registre)+1]*gen[j]\n",
    "                k=k+1\n",
    "        bit_de_sortie=abs((y[i]-somme_registre_gen(registre,gen)%2)*gen[len(gen)-1])\n",
    "        registre[len(registre)-1]=bit_de_sortie\n",
    "        x.append(bit_de_sortie)\n",
    "        #print(registre,i)\n",
    "        res=res+str(bit_de_sortie)\n",
    "    return res\n"
   ]
  },
  {
   "cell_type": "code",
   "execution_count": 186,
   "id": "73cf4f4b",
   "metadata": {},
   "outputs": [
    {
     "name": "stdout",
     "output_type": "stream",
     "text": [
      "[0, 1] 0\n",
      "[1, 0] 1\n",
      "[0, 1] 2\n",
      "[1, 1] 3\n",
      "[1, 0] 4\n",
      "[0, 0] 5\n",
      "[0, 0] 6\n",
      "1011000\n"
     ]
    }
   ],
   "source": [
    "print(decode_one_generator([1,1,1,0,1,0,0],[1,1]))"
   ]
  },
  {
   "cell_type": "code",
   "execution_count": 192,
   "id": "d50b1e0c",
   "metadata": {},
   "outputs": [],
   "source": [
    "def decode(list_c, generators):\n",
    "    res=[]\n",
    "    for c in list_c:\n",
    "        for g in generators:\n",
    "            res.append(decode_one_generator(c,g))\n",
    "    return res"
   ]
  },
  {
   "cell_type": "code",
   "execution_count": 195,
   "id": "7947d51a",
   "metadata": {},
   "outputs": [
    {
     "name": "stdout",
     "output_type": "stream",
     "text": [
      "['1011000', '1101111', '1110100', '1011000']\n"
     ]
    }
   ],
   "source": [
    "print(decode([[1,1,1,0,1,0,0],[1,0,0,1,1,1,0]],[[1,1],[1,0,1]]))"
   ]
  }
 ],
 "metadata": {
  "kernelspec": {
   "display_name": "Python 3 (ipykernel)",
   "language": "python",
   "name": "python3"
  },
  "language_info": {
   "codemirror_mode": {
    "name": "ipython",
    "version": 3
   },
   "file_extension": ".py",
   "mimetype": "text/x-python",
   "name": "python",
   "nbconvert_exporter": "python",
   "pygments_lexer": "ipython3",
   "version": "3.10.6"
  }
 },
 "nbformat": 4,
 "nbformat_minor": 5
}
